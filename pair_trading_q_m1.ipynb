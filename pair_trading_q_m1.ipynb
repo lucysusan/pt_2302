{
 "cells": [
  {
   "cell_type": "code",
   "execution_count": null,
   "metadata": {
    "collapsed": true,
    "pycharm": {
     "is_executing": true
    }
   },
   "outputs": [
    {
     "name": "stdout",
     "output_type": "stream",
     "text": [
      "2017-01-01 -------------------------------------------------------\n",
      "\n",
      "run_pairOn cost time 18.082271099090576 s\n",
      "\n"
     ]
    },
    {
     "name": "stderr",
     "output_type": "stream",
     "text": [
      "100%|██████████| 75/75 [00:49<00:00,  1.52it/s]\n",
      "18it [01:13,  4.07s/it]\n",
      "100%|██████████| 75/75 [00:02<00:00, 35.79it/s]\n"
     ]
    },
    {
     "name": "stdout",
     "output_type": "stream",
     "text": [
      "\n",
      "run cost time 91.15950798988342 s\n",
      "\n",
      "2017-02-01 -------------------------------------------------------\n",
      "\n",
      "run_pairOn cost time 45.10320019721985 s\n",
      "\n"
     ]
    },
    {
     "name": "stderr",
     "output_type": "stream",
     "text": [
      "100%|██████████| 79/79 [00:49<00:00,  1.61it/s]\n",
      "18it [01:09,  3.88s/it]\n",
      "100%|██████████| 79/79 [00:02<00:00, 31.02it/s]\n"
     ]
    },
    {
     "name": "stdout",
     "output_type": "stream",
     "text": [
      "\n",
      "run cost time 86.89928364753723 s\n",
      "\n",
      "2017-03-01 -------------------------------------------------------\n",
      "\n",
      "run_pairOn cost time 17.30591130256653 s\n",
      "\n"
     ]
    },
    {
     "name": "stderr",
     "output_type": "stream",
     "text": [
      " 19%|█▊        | 18/97 [00:11<00:47,  1.67it/s]"
     ]
    }
   ],
   "source": [
    "from pt_utils.PairTrading import PairTrading\n",
    "\n",
    "\n",
    "bm_df = PairTrading()"
   ]
  },
  {
   "cell_type": "code",
   "execution_count": null,
   "outputs": [],
   "source": [],
   "metadata": {
    "collapsed": false
   }
  }
 ],
 "metadata": {
  "kernelspec": {
   "display_name": "Python 3",
   "language": "python",
   "name": "python3"
  },
  "language_info": {
   "codemirror_mode": {
    "name": "ipython",
    "version": 2
   },
   "file_extension": ".py",
   "mimetype": "text/x-python",
   "name": "python",
   "nbconvert_exporter": "python",
   "pygments_lexer": "ipython2",
   "version": "2.7.6"
  }
 },
 "nbformat": 4,
 "nbformat_minor": 0
}
