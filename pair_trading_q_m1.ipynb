{
 "cells": [
  {
   "cell_type": "code",
   "execution_count": 1,
   "metadata": {
    "collapsed": true,
    "pycharm": {
     "is_executing": true
    }
   },
   "outputs": [
    {
     "name": "stdout",
     "output_type": "stream",
     "text": [
      "2017-01-01 -------------------------------------------------------\n",
      "\n",
      "run_pairOn cost time 49.10305142402649 s\n",
      "\n"
     ]
    },
    {
     "name": "stderr",
     "output_type": "stream",
     "text": [
      "100%|██████████| 75/75 [00:45<00:00,  1.67it/s]\n",
      "18it [00:55,  3.10s/it]\n",
      "100%|██████████| 75/75 [00:01<00:00, 42.61it/s]\n"
     ]
    },
    {
     "name": "stdout",
     "output_type": "stream",
     "text": [
      "\n",
      "run cost time 70.3522047996521 s\n",
      "\n",
      "2017-02-01 -------------------------------------------------------\n",
      "\n",
      "run_pairOn cost time 17.223082304000854 s\n",
      "\n"
     ]
    },
    {
     "name": "stderr",
     "output_type": "stream",
     "text": [
      "100%|██████████| 79/79 [00:44<00:00,  1.76it/s]\n",
      "18it [00:59,  3.32s/it]\n",
      "100%|██████████| 79/79 [00:02<00:00, 37.19it/s]\n"
     ]
    },
    {
     "name": "stdout",
     "output_type": "stream",
     "text": [
      "\n",
      "run cost time 109.67038106918335 s\n",
      "\n",
      "2017-03-01 -------------------------------------------------------\n",
      "\n",
      "run_pairOn cost time 16.7013201713562 s\n",
      "\n"
     ]
    },
    {
     "name": "stderr",
     "output_type": "stream",
     "text": [
      "100%|██████████| 97/97 [00:56<00:00,  1.73it/s]\n",
      "23it [01:23,  3.64s/it]\n",
      "100%|██████████| 97/97 [00:03<00:00, 29.21it/s]\n"
     ]
    },
    {
     "name": "stdout",
     "output_type": "stream",
     "text": [
      "\n",
      "run cost time 137.6591281890869 s\n",
      "\n",
      "2017-04-01 -------------------------------------------------------\n",
      "\n",
      "run_pairOn cost time 19.530648708343506 s\n",
      "\n"
     ]
    },
    {
     "name": "stderr",
     "output_type": "stream",
     "text": [
      "100%|██████████| 68/68 [00:36<00:00,  1.88it/s]\n",
      "18it [01:02,  3.48s/it]\n",
      "100%|██████████| 64/64 [00:01<00:00, 38.99it/s]\n"
     ]
    },
    {
     "name": "stdout",
     "output_type": "stream",
     "text": [
      "\n",
      "run cost time 109.24308180809021 s\n",
      "\n",
      "2017-05-01 -------------------------------------------------------\n",
      "\n",
      "run_pairOn cost time 16.186355590820312 s\n",
      "\n"
     ]
    },
    {
     "name": "stderr",
     "output_type": "stream",
     "text": [
      "100%|██████████| 57/57 [00:25<00:00,  2.21it/s]\n",
      "20it [01:04,  3.22s/it]\n",
      "100%|██████████| 46/46 [00:01<00:00, 42.75it/s]\n"
     ]
    },
    {
     "name": "stdout",
     "output_type": "stream",
     "text": [
      "\n",
      "run cost time 107.61587619781494 s\n",
      "\n",
      "2017-06-01 -------------------------------------------------------\n",
      "\n",
      "run_pairOn cost time 16.082499980926514 s\n",
      "\n"
     ]
    },
    {
     "name": "stderr",
     "output_type": "stream",
     "text": [
      "100%|██████████| 48/48 [00:24<00:00,  1.97it/s]\n",
      "22it [01:10,  3.18s/it]\n",
      "100%|██████████| 41/41 [00:01<00:00, 35.65it/s]\n"
     ]
    },
    {
     "name": "stdout",
     "output_type": "stream",
     "text": [
      "\n",
      "run cost time 111.23010039329529 s\n",
      "\n",
      "2017-07-01 -------------------------------------------------------\n",
      "\n",
      "run_pairOn cost time 49.33494234085083 s\n",
      "\n"
     ]
    },
    {
     "name": "stderr",
     "output_type": "stream",
     "text": [
      "100%|██████████| 50/50 [00:28<00:00,  1.76it/s]\n",
      "21it [02:00,  5.73s/it]\n",
      "100%|██████████| 50/50 [00:01<00:00, 37.15it/s]\n"
     ]
    },
    {
     "name": "stdout",
     "output_type": "stream",
     "text": [
      "\n",
      "run cost time 164.12309789657593 s\n",
      "\n",
      "2017-08-01 -------------------------------------------------------\n",
      "\n",
      "run_pairOn cost time 16.838443994522095 s\n",
      "\n"
     ]
    },
    {
     "name": "stderr",
     "output_type": "stream",
     "text": [
      "100%|██████████| 66/66 [00:39<00:00,  1.67it/s]\n",
      "23it [01:12,  3.16s/it]\n",
      "100%|██████████| 66/66 [00:02<00:00, 32.52it/s]\n"
     ]
    },
    {
     "name": "stdout",
     "output_type": "stream",
     "text": [
      "\n",
      "run cost time 85.99777626991272 s\n",
      "\n",
      "2017-09-01 -------------------------------------------------------\n",
      "\n",
      "run_pairOn cost time 17.82521152496338 s\n",
      "\n"
     ]
    },
    {
     "name": "stderr",
     "output_type": "stream",
     "text": [
      "100%|██████████| 80/80 [00:43<00:00,  1.84it/s]\n",
      "21it [01:06,  3.17s/it]\n",
      "100%|██████████| 74/74 [00:01<00:00, 41.26it/s]\n"
     ]
    },
    {
     "name": "stdout",
     "output_type": "stream",
     "text": [
      "\n",
      "run cost time 80.5578236579895 s\n",
      "\n",
      "2017-10-01 -------------------------------------------------------\n",
      "\n",
      "run_pairOn cost time 16.702991008758545 s\n",
      "\n"
     ]
    },
    {
     "name": "stderr",
     "output_type": "stream",
     "text": [
      "100%|██████████| 76/76 [00:35<00:00,  2.12it/s]\n",
      "17it [00:56,  3.32s/it]\n",
      "100%|██████████| 64/64 [00:01<00:00, 36.95it/s]\n"
     ]
    },
    {
     "name": "stdout",
     "output_type": "stream",
     "text": [
      "\n",
      "run cost time 104.2651641368866 s\n",
      "\n",
      "2017-11-01 -------------------------------------------------------\n",
      "\n",
      "run_pairOn cost time 17.89401125907898 s\n",
      "\n"
     ]
    },
    {
     "name": "stderr",
     "output_type": "stream",
     "text": [
      "100%|██████████| 68/68 [00:26<00:00,  2.55it/s]\n",
      "22it [01:12,  3.31s/it]\n",
      "100%|██████████| 47/47 [00:01<00:00, 37.37it/s]\n"
     ]
    },
    {
     "name": "stdout",
     "output_type": "stream",
     "text": [
      "\n",
      "run cost time 119.7731122970581 s\n",
      "\n",
      "2017-12-01 -------------------------------------------------------\n",
      "\n",
      "run_pairOn cost time 16.354419946670532 s\n",
      "\n"
     ]
    },
    {
     "name": "stderr",
     "output_type": "stream",
     "text": [
      "100%|██████████| 85/85 [00:45<00:00,  1.86it/s]\n",
      "21it [01:07,  3.23s/it]\n",
      "100%|██████████| 83/83 [00:02<00:00, 41.26it/s]\n"
     ]
    },
    {
     "name": "stdout",
     "output_type": "stream",
     "text": [
      "\n",
      "run cost time 111.45218896865845 s\n",
      "\n",
      "2018-01-01 -------------------------------------------------------\n",
      "\n",
      "run_pairOn cost time 16.104202270507812 s\n",
      "\n"
     ]
    },
    {
     "name": "stderr",
     "output_type": "stream",
     "text": [
      "100%|██████████| 221/221 [02:02<00:00,  1.81it/s]\n",
      "22it [01:12,  3.32s/it]\n",
      "100%|██████████| 214/214 [00:05<00:00, 35.76it/s]\n"
     ]
    },
    {
     "name": "stdout",
     "output_type": "stream",
     "text": [
      "\n",
      "run cost time 145.80673384666443 s\n",
      "\n",
      "2018-02-01 -------------------------------------------------------\n",
      "\n",
      "run_pairOn cost time 16.36981987953186 s\n",
      "\n"
     ]
    },
    {
     "name": "stderr",
     "output_type": "stream",
     "text": [
      "100%|██████████| 219/219 [01:56<00:00,  1.89it/s]\n",
      "15it [01:29,  6.00s/it]\n",
      "100%|██████████| 200/200 [00:05<00:00, 39.87it/s]\n"
     ]
    },
    {
     "name": "stdout",
     "output_type": "stream",
     "text": [
      "\n",
      "run cost time 161.93984031677246 s\n",
      "\n",
      "2018-03-01 -------------------------------------------------------\n",
      "\n",
      "run_pairOn cost time 21.344679355621338 s\n",
      "\n"
     ]
    },
    {
     "name": "stderr",
     "output_type": "stream",
     "text": [
      "100%|██████████| 156/156 [01:28<00:00,  1.76it/s]\n",
      "22it [01:39,  4.52s/it]\n",
      "100%|██████████| 154/154 [00:03<00:00, 38.62it/s]\n"
     ]
    },
    {
     "name": "stdout",
     "output_type": "stream",
     "text": [
      "\n",
      "run cost time 161.36136651039124 s\n",
      "\n",
      "2018-04-01 -------------------------------------------------------\n",
      "\n",
      "run_pairOn cost time 16.466543912887573 s\n",
      "\n"
     ]
    },
    {
     "name": "stderr",
     "output_type": "stream",
     "text": [
      "100%|██████████| 159/159 [01:28<00:00,  1.79it/s]\n",
      "18it [01:10,  3.94s/it]\n",
      "100%|██████████| 159/159 [00:03<00:00, 40.70it/s]\n"
     ]
    },
    {
     "name": "stdout",
     "output_type": "stream",
     "text": [
      "\n",
      "run cost time 135.06700897216797 s\n",
      "\n",
      "2018-05-01 -------------------------------------------------------\n",
      "\n",
      "run_pairOn cost time 16.9584641456604 s\n",
      "\n"
     ]
    },
    {
     "name": "stderr",
     "output_type": "stream",
     "text": [
      "100%|██████████| 115/115 [01:14<00:00,  1.54it/s]\n",
      "22it [02:10,  5.95s/it]\n",
      "100%|██████████| 111/111 [00:02<00:00, 37.77it/s]\n"
     ]
    },
    {
     "name": "stdout",
     "output_type": "stream",
     "text": [
      "\n",
      "run cost time 187.0547182559967 s\n",
      "\n",
      "2018-06-01 -------------------------------------------------------\n",
      "\n",
      "run_pairOn cost time 52.07692790031433 s\n",
      "\n"
     ]
    },
    {
     "name": "stderr",
     "output_type": "stream",
     "text": [
      "100%|██████████| 128/128 [01:06<00:00,  1.92it/s]\n",
      "20it [01:53,  5.65s/it]\n",
      "100%|██████████| 123/123 [00:02<00:00, 43.11it/s]\n"
     ]
    },
    {
     "name": "stdout",
     "output_type": "stream",
     "text": [
      "\n",
      "run cost time 171.8315670490265 s\n",
      "\n",
      "2018-07-01 -------------------------------------------------------\n",
      "\n",
      "run_pairOn cost time 15.491087913513184 s\n",
      "\n"
     ]
    },
    {
     "name": "stderr",
     "output_type": "stream",
     "text": [
      "100%|██████████| 124/124 [01:08<00:00,  1.80it/s]\n",
      "22it [01:57,  5.34s/it]\n",
      "100%|██████████| 122/122 [00:03<00:00, 39.07it/s]\n"
     ]
    },
    {
     "name": "stdout",
     "output_type": "stream",
     "text": [
      "\n",
      "run cost time 173.29881024360657 s\n",
      "\n",
      "2018-08-01 -------------------------------------------------------\n",
      "\n",
      "run_pairOn cost time 16.279102325439453 s\n",
      "\n"
     ]
    },
    {
     "name": "stderr",
     "output_type": "stream",
     "text": [
      "100%|██████████| 119/119 [01:02<00:00,  1.91it/s]\n",
      "23it [01:39,  4.34s/it]\n",
      "100%|██████████| 112/112 [00:02<00:00, 37.82it/s]\n"
     ]
    },
    {
     "name": "stdout",
     "output_type": "stream",
     "text": [
      "\n",
      "run cost time 160.34434151649475 s\n",
      "\n",
      "2018-09-01 -------------------------------------------------------\n",
      "\n",
      "run_pairOn cost time 16.238682985305786 s\n",
      "\n"
     ]
    },
    {
     "name": "stderr",
     "output_type": "stream",
     "text": [
      "100%|██████████| 158/158 [01:18<00:00,  2.01it/s]\n",
      "19it [01:25,  4.50s/it]\n",
      "100%|██████████| 138/138 [00:03<00:00, 39.26it/s]\n"
     ]
    },
    {
     "name": "stdout",
     "output_type": "stream",
     "text": [
      "\n",
      "run cost time 143.05445647239685 s\n",
      "\n",
      "2018-10-01 -------------------------------------------------------\n",
      "\n",
      "run_pairOn cost time 16.12494421005249 s\n",
      "\n"
     ]
    },
    {
     "name": "stderr",
     "output_type": "stream",
     "text": [
      "100%|██████████| 109/109 [00:57<00:00,  1.91it/s]\n",
      "18it [01:24,  4.72s/it]\n",
      "100%|██████████| 100/100 [00:02<00:00, 39.34it/s]\n"
     ]
    },
    {
     "name": "stdout",
     "output_type": "stream",
     "text": [
      "\n",
      "run cost time 137.7698016166687 s\n",
      "\n",
      "2018-11-01 -------------------------------------------------------\n",
      "\n",
      "run_pairOn cost time 17.9022536277771 s\n",
      "\n"
     ]
    },
    {
     "name": "stderr",
     "output_type": "stream",
     "text": [
      "100%|██████████| 109/109 [00:52<00:00,  2.06it/s]\n",
      "22it [02:06,  5.73s/it]\n",
      "100%|██████████| 95/95 [00:02<00:00, 35.20it/s]\n"
     ]
    },
    {
     "name": "stdout",
     "output_type": "stream",
     "text": [
      "\n",
      "run cost time 177.62668752670288 s\n",
      "\n",
      "2018-12-01 -------------------------------------------------------\n",
      "\n",
      "run_pairOn cost time 50.22491145133972 s\n",
      "\n"
     ]
    },
    {
     "name": "stderr",
     "output_type": "stream",
     "text": [
      "100%|██████████| 117/117 [01:11<00:00,  1.65it/s]\n",
      "20it [01:40,  5.03s/it]\n",
      "100%|██████████| 115/115 [00:02<00:00, 39.07it/s]\n"
     ]
    },
    {
     "name": "stdout",
     "output_type": "stream",
     "text": [
      "\n",
      "run cost time 156.73089170455933 s\n",
      "\n",
      "2019-01-01 -------------------------------------------------------\n",
      "\n",
      "run_pairOn cost time 16.349975109100342 s\n",
      "\n"
     ]
    },
    {
     "name": "stderr",
     "output_type": "stream",
     "text": [
      "100%|██████████| 162/162 [01:22<00:00,  1.96it/s]\n",
      "22it [01:11,  3.24s/it]\n",
      "100%|██████████| 151/151 [00:03<00:00, 38.60it/s]\n"
     ]
    },
    {
     "name": "stdout",
     "output_type": "stream",
     "text": [
      "\n",
      "run cost time 130.85327196121216 s\n",
      "\n",
      "2019-02-01 -------------------------------------------------------\n",
      "\n",
      "run_pairOn cost time 16.04256510734558 s\n",
      "\n"
     ]
    },
    {
     "name": "stderr",
     "output_type": "stream",
     "text": [
      "100%|██████████| 174/174 [01:29<00:00,  1.95it/s]\n",
      "15it [00:49,  3.30s/it]\n",
      "100%|██████████| 162/162 [00:04<00:00, 39.44it/s]\n"
     ]
    },
    {
     "name": "stdout",
     "output_type": "stream",
     "text": [
      "\n",
      "run cost time 112.03249979019165 s\n",
      "\n",
      "2019-03-01 -------------------------------------------------------\n",
      "\n",
      "run_pairOn cost time 16.09856128692627 s\n",
      "\n"
     ]
    },
    {
     "name": "stderr",
     "output_type": "stream",
     "text": [
      "100%|██████████| 70/70 [00:36<00:00,  1.91it/s]\n",
      "21it [01:05,  3.11s/it]\n",
      "100%|██████████| 67/67 [00:01<00:00, 38.08it/s]\n"
     ]
    },
    {
     "name": "stdout",
     "output_type": "stream",
     "text": [
      "\n",
      "run cost time 112.40547966957092 s\n",
      "\n",
      "2019-04-01 -------------------------------------------------------\n",
      "\n",
      "run_pairOn cost time 15.98005747795105 s\n",
      "\n"
     ]
    },
    {
     "name": "stderr",
     "output_type": "stream",
     "text": [
      "100%|██████████| 48/48 [00:23<00:00,  2.05it/s]\n",
      "21it [01:05,  3.12s/it]\n",
      "100%|██████████| 43/43 [00:01<00:00, 40.71it/s]\n"
     ]
    },
    {
     "name": "stdout",
     "output_type": "stream",
     "text": [
      "\n",
      "run cost time 108.39102053642273 s\n",
      "\n",
      "2019-05-01 -------------------------------------------------------\n",
      "\n",
      "run_pairOn cost time 15.875834226608276 s\n",
      "\n"
     ]
    },
    {
     "name": "stderr",
     "output_type": "stream",
     "text": [
      "100%|██████████| 49/49 [00:25<00:00,  1.88it/s]\n",
      "20it [00:59,  2.95s/it]\n",
      "100%|██████████| 48/48 [00:01<00:00, 39.94it/s]\n"
     ]
    },
    {
     "name": "stdout",
     "output_type": "stream",
     "text": [
      "\n",
      "run cost time 68.96069741249084 s\n",
      "\n",
      "2019-06-01 -------------------------------------------------------\n",
      "\n",
      "run_pairOn cost time 15.929750680923462 s\n",
      "\n"
     ]
    },
    {
     "name": "stderr",
     "output_type": "stream",
     "text": [
      "100%|██████████| 76/76 [00:57<00:00,  1.33it/s]\n",
      "19it [01:47,  5.68s/it]\n",
      "100%|██████████| 73/73 [00:01<00:00, 38.61it/s]\n"
     ]
    },
    {
     "name": "stdout",
     "output_type": "stream",
     "text": [
      "\n",
      "run cost time 154.98282170295715 s\n",
      "\n",
      "2019-07-01 -------------------------------------------------------\n",
      "\n",
      "run_pairOn cost time 16.105909824371338 s\n",
      "\n"
     ]
    },
    {
     "name": "stderr",
     "output_type": "stream",
     "text": [
      "100%|██████████| 93/93 [00:50<00:00,  1.83it/s]\n",
      "23it [02:10,  5.68s/it]\n",
      "100%|██████████| 93/93 [00:02<00:00, 36.37it/s]\n"
     ]
    },
    {
     "name": "stdout",
     "output_type": "stream",
     "text": [
      "\n",
      "run cost time 180.3861165046692 s\n",
      "\n",
      "2019-08-01 -------------------------------------------------------\n",
      "\n",
      "run_pairOn cost time 48.86169409751892 s\n",
      "\n"
     ]
    },
    {
     "name": "stderr",
     "output_type": "stream",
     "text": [
      "100%|██████████| 135/135 [01:13<00:00,  1.84it/s]\n",
      "22it [02:06,  5.75s/it]\n",
      "100%|██████████| 133/133 [00:03<00:00, 38.05it/s]\n"
     ]
    },
    {
     "name": "stdout",
     "output_type": "stream",
     "text": [
      "\n",
      "run cost time 182.909597158432 s\n",
      "\n",
      "2019-09-01 -------------------------------------------------------\n",
      "\n",
      "run_pairOn cost time 50.05371928215027 s\n",
      "\n"
     ]
    },
    {
     "name": "stderr",
     "output_type": "stream",
     "text": [
      "100%|██████████| 184/184 [01:23<00:00,  2.19it/s]\n",
      "20it [01:54,  5.72s/it]\n",
      "100%|██████████| 151/151 [00:03<00:00, 37.89it/s]\n"
     ]
    },
    {
     "name": "stdout",
     "output_type": "stream",
     "text": [
      "\n",
      "run cost time 173.2391664981842 s\n",
      "\n",
      "2019-10-01 -------------------------------------------------------\n",
      "\n",
      "run_pairOn cost time 49.576693058013916 s\n",
      "\n"
     ]
    },
    {
     "name": "stderr",
     "output_type": "stream",
     "text": [
      "100%|██████████| 194/194 [01:42<00:00,  1.90it/s]\n",
      "18it [01:00,  3.38s/it]\n",
      "100%|██████████| 184/184 [00:05<00:00, 36.67it/s]\n"
     ]
    },
    {
     "name": "stdout",
     "output_type": "stream",
     "text": [
      "\n",
      "run cost time 125.7112648487091 s\n",
      "\n",
      "2019-11-01 -------------------------------------------------------\n",
      "\n",
      "run_pairOn cost time 16.03034996986389 s\n",
      "\n"
     ]
    },
    {
     "name": "stderr",
     "output_type": "stream",
     "text": [
      "100%|██████████| 136/136 [01:32<00:00,  1.46it/s]\n",
      "21it [01:18,  3.71s/it]\n",
      "100%|██████████| 126/126 [00:03<00:00, 38.32it/s]\n"
     ]
    },
    {
     "name": "stdout",
     "output_type": "stream",
     "text": [
      "\n",
      "run cost time 134.06829404830933 s\n",
      "\n",
      "2019-12-01 -------------------------------------------------------\n",
      "\n",
      "run_pairOn cost time 15.91720175743103 s\n",
      "\n"
     ]
    },
    {
     "name": "stderr",
     "output_type": "stream",
     "text": [
      "100%|██████████| 153/153 [01:18<00:00,  1.95it/s]\n",
      "22it [01:14,  3.38s/it]\n",
      "100%|██████████| 143/143 [00:03<00:00, 37.63it/s]\n"
     ]
    },
    {
     "name": "stdout",
     "output_type": "stream",
     "text": [
      "\n",
      "run cost time 133.01826643943787 s\n",
      "\n",
      "2020-01-01 -------------------------------------------------------\n",
      "\n",
      "run_pairOn cost time 15.810998916625977 s\n",
      "\n"
     ]
    },
    {
     "name": "stderr",
     "output_type": "stream",
     "text": [
      "100%|██████████| 135/135 [01:06<00:00,  2.02it/s]\n",
      "16it [00:51,  3.22s/it]\n",
      "100%|██████████| 121/121 [00:03<00:00, 38.33it/s]\n"
     ]
    },
    {
     "name": "stdout",
     "output_type": "stream",
     "text": [
      "\n",
      "run cost time 107.4482524394989 s\n",
      "\n",
      "2020-02-01 -------------------------------------------------------\n",
      "\n",
      "run_pairOn cost time 15.847229719161987 s\n",
      "\n"
     ]
    },
    {
     "name": "stderr",
     "output_type": "stream",
     "text": [
      "100%|██████████| 110/110 [00:55<00:00,  1.99it/s]\n",
      "20it [01:06,  3.33s/it]\n",
      "100%|██████████| 96/96 [00:03<00:00, 24.38it/s]\n"
     ]
    },
    {
     "name": "stdout",
     "output_type": "stream",
     "text": [
      "\n",
      "run cost time 120.29205346107483 s\n",
      "\n",
      "2020-03-01 -------------------------------------------------------\n",
      "\n",
      "run_pairOn cost time 18.40394949913025 s\n",
      "\n"
     ]
    },
    {
     "name": "stderr",
     "output_type": "stream",
     "text": [
      "100%|██████████| 31/31 [00:15<00:00,  1.98it/s]\n",
      "22it [01:06,  3.04s/it]\n",
      "100%|██████████| 27/27 [00:00<00:00, 37.70it/s]\n"
     ]
    },
    {
     "name": "stdout",
     "output_type": "stream",
     "text": [
      "\n",
      "run cost time 108.04293084144592 s\n",
      "\n",
      "2020-04-01 -------------------------------------------------------\n",
      "\n",
      "run_pairOn cost time 15.684898853302002 s\n",
      "\n"
     ]
    },
    {
     "name": "stderr",
     "output_type": "stream",
     "text": [
      "100%|██████████| 46/46 [00:21<00:00,  2.17it/s]\n",
      "21it [01:03,  3.02s/it]\n",
      "100%|██████████| 39/39 [00:01<00:00, 38.12it/s]\n"
     ]
    },
    {
     "name": "stdout",
     "output_type": "stream",
     "text": [
      "\n",
      "run cost time 72.0939404964447 s\n",
      "\n",
      "2020-05-01 -------------------------------------------------------\n",
      "\n",
      "run_pairOn cost time 15.896566152572632 s\n",
      "\n"
     ]
    },
    {
     "name": "stderr",
     "output_type": "stream",
     "text": [
      "100%|██████████| 57/57 [00:30<00:00,  1.88it/s]\n",
      "18it [00:57,  3.17s/it]\n",
      "100%|██████████| 55/55 [00:01<00:00, 38.57it/s]\n"
     ]
    },
    {
     "name": "stdout",
     "output_type": "stream",
     "text": [
      "\n",
      "run cost time 68.0902636051178 s\n",
      "\n",
      "2020-06-01 -------------------------------------------------------\n",
      "\n",
      "run_pairOn cost time 16.23994541168213 s\n",
      "\n"
     ]
    },
    {
     "name": "stderr",
     "output_type": "stream",
     "text": [
      "100%|██████████| 61/61 [00:33<00:00,  1.80it/s]\n",
      "20it [01:02,  3.15s/it]\n",
      "100%|██████████| 58/58 [00:01<00:00, 38.64it/s]\n"
     ]
    },
    {
     "name": "stdout",
     "output_type": "stream",
     "text": [
      "\n",
      "run cost time 74.32665586471558 s\n",
      "\n",
      "2020-07-01 -------------------------------------------------------\n",
      "\n",
      "run_pairOn cost time 15.604439735412598 s\n",
      "\n"
     ]
    },
    {
     "name": "stderr",
     "output_type": "stream",
     "text": [
      "100%|██████████| 64/64 [00:31<00:00,  2.03it/s]\n",
      "23it [01:09,  3.01s/it]\n",
      "100%|██████████| 57/57 [00:01<00:00, 37.82it/s]\n"
     ]
    },
    {
     "name": "stdout",
     "output_type": "stream",
     "text": [
      "\n",
      "run cost time 80.43490719795227 s\n",
      "\n",
      "2020-08-01 -------------------------------------------------------\n",
      "\n",
      "run_pairOn cost time 15.836220026016235 s\n",
      "\n"
     ]
    },
    {
     "name": "stderr",
     "output_type": "stream",
     "text": [
      "  0%|          | 0/66 [00:00<?, ?it/s]\n"
     ]
    }
   ],
   "source": [
    "from pt_utils.PairTrading import PairTrading\n",
    "\n",
    "\n",
    "bm_df = PairTrading()"
   ]
  },
  {
   "cell_type": "code",
   "execution_count": null,
   "metadata": {
    "collapsed": false
   },
   "outputs": [],
   "source": []
  }
 ],
 "metadata": {
  "kernelspec": {
   "display_name": "Python 3",
   "language": "python",
   "name": "python3"
  },
  "language_info": {
   "codemirror_mode": {
    "name": "ipython",
    "version": 3
   },
   "file_extension": ".py",
   "mimetype": "text/x-python",
   "name": "python",
   "nbconvert_exporter": "python",
   "pygments_lexer": "ipython3",
   "version": "3.8.6"
  },
  "vscode": {
   "interpreter": {
    "hash": "2f127e0399bc8469cb0fd0022d70db1d364f522cbdb8fb9675309e09a2fb596c"
   }
  }
 },
 "nbformat": 4,
 "nbformat_minor": 0
}
