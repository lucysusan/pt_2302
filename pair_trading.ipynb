{
 "cells": [
  {
   "cell_type": "code",
   "execution_count": null,
   "metadata": {
    "collapsed": true,
    "pycharm": {
     "is_executing": true
    }
   },
   "outputs": [
    {
     "name": "stdout",
     "output_type": "stream",
     "text": [
      "2017-01-01 -------------------------------------------------------\n",
      "\n",
      "run_pairOn cost time 10.334222793579102 s\n",
      "\n"
     ]
    },
    {
     "name": "stderr",
     "output_type": "stream",
     "text": [
      "100%|██████████| 5/5 [00:02<00:00,  1.75it/s]\n",
      "18it [00:53,  2.98s/it]\n",
      "100%|██████████| 5/5 [00:00<00:00, 43.98it/s]\n"
     ]
    },
    {
     "name": "stdout",
     "output_type": "stream",
     "text": [
      "\n",
      "run cost time 56.90051770210266 s\n",
      "\n",
      "2017-02-01 -------------------------------------------------------\n",
      "\n",
      "run_pairOn cost time 10.339682579040527 s\n",
      "\n"
     ]
    },
    {
     "name": "stderr",
     "output_type": "stream",
     "text": [
      "100%|██████████| 2/2 [00:01<00:00,  1.75it/s]\n",
      "18it [00:49,  2.75s/it]\n",
      "100%|██████████| 2/2 [00:00<00:00, 36.46it/s]\n"
     ]
    },
    {
     "name": "stdout",
     "output_type": "stream",
     "text": [
      "\n",
      "run cost time 52.30494809150696 s\n",
      "\n",
      "2017-03-01 -------------------------------------------------------\n",
      "\n",
      "run_pairOn cost time 10.252699851989746 s\n",
      "\n"
     ]
    },
    {
     "name": "stderr",
     "output_type": "stream",
     "text": [
      "100%|██████████| 3/3 [00:01<00:00,  1.64it/s]\n",
      "23it [01:08,  2.99s/it]\n",
      "100%|██████████| 3/3 [00:00<00:00, 36.68it/s]\n"
     ]
    },
    {
     "name": "stdout",
     "output_type": "stream",
     "text": [
      "\n",
      "run cost time 71.75097870826721 s\n",
      "\n",
      "2017-04-01 -------------------------------------------------------\n",
      "\n",
      "run_pairOn cost time 17.04837965965271 s\n",
      "\n"
     ]
    },
    {
     "name": "stderr",
     "output_type": "stream",
     "text": [
      "100%|██████████| 1/1 [00:00<00:00,  1.73it/s]\n",
      "18it [00:51,  2.85s/it]\n",
      "100%|██████████| 1/1 [00:00<00:00, 40.11it/s]\n"
     ]
    },
    {
     "name": "stdout",
     "output_type": "stream",
     "text": [
      "\n",
      "run cost time 63.35697269439697 s\n",
      "\n",
      "2017-05-01 -------------------------------------------------------\n",
      "\n",
      "run_pairOn cost time 16.70945906639099 s\n",
      "\n"
     ]
    },
    {
     "name": "stderr",
     "output_type": "stream",
     "text": [
      "100%|██████████| 1/1 [00:00<00:00,  1.64it/s]\n",
      "20it [01:08,  3.42s/it]\n",
      "100%|██████████| 1/1 [00:00<00:00, 40.11it/s]\n"
     ]
    },
    {
     "name": "stdout",
     "output_type": "stream",
     "text": [
      "\n",
      "run cost time 81.31184434890747 s\n",
      "\n",
      "2017-06-01 -------------------------------------------------------\n",
      "\n",
      "run_pairOn cost time 47.150482177734375 s\n",
      "\n"
     ]
    },
    {
     "name": "stderr",
     "output_type": "stream",
     "text": [
      "100%|██████████| 3/3 [00:01<00:00,  1.79it/s]\n",
      "22it [01:51,  5.08s/it]\n",
      "100%|██████████| 3/3 [00:00<00:00, 21.86it/s]\n"
     ]
    },
    {
     "name": "stdout",
     "output_type": "stream",
     "text": [
      "\n",
      "run cost time 146.73339533805847 s\n",
      "\n",
      "2017-07-01 -------------------------------------------------------\n",
      "\n",
      "run_pairOn cost time 52.292147636413574 s\n",
      "\n"
     ]
    },
    {
     "name": "stderr",
     "output_type": "stream",
     "text": [
      "100%|██████████| 19/19 [00:10<00:00,  1.85it/s]\n",
      "21it [01:15,  3.59s/it]\n",
      "100%|██████████| 17/17 [00:00<00:00, 33.49it/s]\n"
     ]
    },
    {
     "name": "stdout",
     "output_type": "stream",
     "text": [
      "\n",
      "run cost time 81.60776233673096 s\n",
      "\n",
      "2017-08-01 -------------------------------------------------------\n",
      "\n",
      "run_pairOn cost time 45.884318351745605 s\n",
      "\n"
     ]
    },
    {
     "name": "stderr",
     "output_type": "stream",
     "text": [
      "100%|██████████| 12/12 [00:06<00:00,  1.81it/s]\n",
      "17it [01:04,  3.68s/it]"
     ]
    }
   ],
   "source": [
    "from pt_utils.PairTrading import PairTrading\n",
    "\n",
    "\n",
    "bm_df = PairTrading()"
   ]
  },
  {
   "cell_type": "code",
   "execution_count": null,
   "metadata": {
    "collapsed": false
   },
   "outputs": [],
   "source": []
  }
 ],
 "metadata": {
  "kernelspec": {
   "display_name": "Python 3",
   "language": "python",
   "name": "python3"
  },
  "language_info": {
   "codemirror_mode": {
    "name": "ipython",
    "version": 3
   },
   "file_extension": ".py",
   "mimetype": "text/x-python",
   "name": "python",
   "nbconvert_exporter": "python",
   "pygments_lexer": "ipython3",
   "version": "3.8.6"
  },
  "vscode": {
   "interpreter": {
    "hash": "2f127e0399bc8469cb0fd0022d70db1d364f522cbdb8fb9675309e09a2fb596c"
   }
  }
 },
 "nbformat": 4,
 "nbformat_minor": 1
}
